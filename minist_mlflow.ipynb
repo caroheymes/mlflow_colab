{
  "nbformat": 4,
  "nbformat_minor": 0,
  "metadata": {
    "colab": {
      "name": "minist_mlflow.ipynb",
      "provenance": [],
      "collapsed_sections": [],
      "mount_file_id": "1LfnGBxq3OAEEpxhhnIhbd4JBK4rOEUSK",
      "authorship_tag": "ABX9TyMKO1+tSRE8j/wE+/BZZX9D",
      "include_colab_link": true
    },
    "kernelspec": {
      "name": "python3",
      "display_name": "Python 3"
    },
    "language_info": {
      "name": "python"
    }
  },
  "cells": [
    {
      "cell_type": "markdown",
      "metadata": {
        "id": "view-in-github",
        "colab_type": "text"
      },
      "source": [
        "<a href=\"https://colab.research.google.com/github/caroheymes/mlflow_colab/blob/master/minist_mlflow.ipynb\" target=\"_parent\"><img src=\"https://colab.research.google.com/assets/colab-badge.svg\" alt=\"Open In Colab\"/></a>"
      ]
    },
    {
      "cell_type": "markdown",
      "metadata": {
        "id": "8_ikbWXKD877"
      },
      "source": [
        "**Context**\n",
        "\n",
        "This notebook tries to use mlfow in google colab. MLflow is an open source platform to manage the ML lifecycle. It provides tools to conduct experiments, manage models for reproducibility, as well as mlflow ui for logging, and visualization. "
      ]
    },
    {
      "cell_type": "markdown",
      "metadata": {
        "id": "rirbJf2z9eiU"
      },
      "source": [
        "# Digits prediction with keras"
      ]
    },
    {
      "cell_type": "code",
      "metadata": {
        "colab": {
          "base_uri": "https://localhost:8080/"
        },
        "id": "SD1hYdFQm6IX",
        "outputId": "66fde99f-459b-461a-d6ab-b46b8de7d590"
      },
      "source": [
        "from __future__ import print_function\n",
        "import argparse\n",
        "\n",
        "import cloudpickle\n",
        "import tensorflow as tf\n",
        "import keras\n",
        "from keras.datasets import mnist\n",
        "from keras.models import Sequential\n",
        "from keras.layers import Dense, Dropout, Flatten\n",
        "from keras.layers import Conv2D, MaxPooling2D\n",
        "from keras import utils as np_utils\n",
        "from keras import backend as K\n",
        "# parser = argparse.ArgumentParser(description='Train a Keras CNN model for MNIST classification in PyTorch')\n",
        "# parser.add_argument('--batch-size', '-b', type=int, default=128)\n",
        "# parser.add_argument('--epochs', '-e', type=int, default=4)\n",
        "# args = parser.parse_args()\n",
        "batch_size = 128\n",
        "epochs = 2\n",
        "num_classes = 10\n",
        "# input image dimensions\n",
        "img_rows, img_cols = 28, 28\n",
        "# the data, split between train and test sets\n",
        "(x_train, y_train), (x_test, y_test) = mnist.load_data()\n",
        "if K.image_data_format() == 'channels_first':\n",
        "    x_train = x_train.reshape(x_train.shape[0],1, img_rows, img_cols)\n",
        "    x_test = x_test.reshape(x_test.shape[0],1, img_rows, img_cols)\n",
        "    input_shape = (1, img_rows, img_cols)\n",
        "else:\n",
        "    x_train = x_train.reshape(x_train.shape[0], img_rows, img_cols, 1)\n",
        "    x_test = x_test.reshape(x_test.shape[0], img_rows, img_cols, 1)\n",
        "    input_shape = (img_rows, img_cols, 1)\n",
        "x_train = x_train.astype('float32')\n",
        "x_test = x_test.astype('float32')\n",
        "x_train /= 255\n",
        "x_test /= 255\n",
        "print('x_train shape:', x_train.shape)\n",
        "print(x_train.shape[0], 'train samples')\n",
        "print(x_test.shape[0], 'test samples')\n",
        "# convert class vectors to binary class matrices\n",
        "y_train = keras.utils.np_utils.to_categorical(y_train, num_classes)\n",
        "y_test = keras.utils.np_utils.to_categorical(y_test, num_classes)\n",
        "model = Sequential()\n",
        "model.add(Conv2D(64, (3, 3), activation='relu', input_shape=input_shape))\n",
        "model.add(MaxPooling2D(pool_size=(2, 2)))\n",
        "model.add(Conv2D(64, kernel_size=(3, 3), activation='relu'))\n",
        "model.add(MaxPooling2D(pool_size=(2, 2)))\n",
        "model.add(Dropout(0.25))\n",
        "model.add(Flatten())\n",
        "model.add(Dense(128, activation='relu'))\n",
        "model.add(Dense(num_classes, activation='softmax'))\n",
        "model.compile(loss='categorical_crossentropy', optimizer='adam', metrics=['accuracy'])\n",
        "model.fit(x_train, y_train,\n",
        "          batch_size=batch_size,\n",
        "          epochs=epochs,\n",
        "          verbose=1,\n",
        "          validation_data=(x_test, y_test))\n",
        "score = model.evaluate(x_test, y_test, verbose=0)\n"
      ],
      "execution_count": 1,
      "outputs": [
        {
          "output_type": "stream",
          "name": "stdout",
          "text": [
            "Downloading data from https://storage.googleapis.com/tensorflow/tf-keras-datasets/mnist.npz\n",
            "11493376/11490434 [==============================] - 0s 0us/step\n",
            "11501568/11490434 [==============================] - 0s 0us/step\n",
            "x_train shape: (60000, 28, 28, 1)\n",
            "60000 train samples\n",
            "10000 test samples\n",
            "Epoch 1/2\n",
            "469/469 [==============================] - 73s 154ms/step - loss: 0.1985 - accuracy: 0.9388 - val_loss: 0.0535 - val_accuracy: 0.9823\n",
            "Epoch 2/2\n",
            "469/469 [==============================] - 72s 154ms/step - loss: 0.0585 - accuracy: 0.9820 - val_loss: 0.0348 - val_accuracy: 0.9881\n"
          ]
        }
      ]
    },
    {
      "cell_type": "code",
      "metadata": {
        "colab": {
          "base_uri": "https://localhost:8080/"
        },
        "id": "0In6aQslscxi",
        "outputId": "bb489594-8334-496a-c88e-0ebc281cd4c3"
      },
      "source": [
        "score"
      ],
      "execution_count": 2,
      "outputs": [
        {
          "output_type": "execute_result",
          "data": {
            "text/plain": [
              "[0.034771766513586044, 0.988099992275238]"
            ]
          },
          "metadata": {},
          "execution_count": 2
        }
      ]
    },
    {
      "cell_type": "markdown",
      "metadata": {
        "id": "mEnUzhwSju8v"
      },
      "source": [
        "ESSAI AVEC https://github.com/dmatrix/google-colab/blob/master/mlflow_issue_2350.ipynb"
      ]
    },
    {
      "cell_type": "markdown",
      "metadata": {
        "id": "kz8sRIqfkXCx"
      },
      "source": [
        "# ML Flow set_up"
      ]
    },
    {
      "cell_type": "code",
      "metadata": {
        "colab": {
          "base_uri": "https://localhost:8080/"
        },
        "id": "zZhQeRLwseNf",
        "outputId": "97d92953-d955-4f7e-d2a1-7765170a0446"
      },
      "source": [
        "!pip install mlflow --quiet"
      ],
      "execution_count": 3,
      "outputs": [
        {
          "output_type": "stream",
          "name": "stdout",
          "text": [
            "\u001b[K     |████████████████████████████████| 16.9 MB 87 kB/s \n",
            "\u001b[K     |████████████████████████████████| 1.1 MB 42.8 MB/s \n",
            "\u001b[K     |████████████████████████████████| 146 kB 55.6 MB/s \n",
            "\u001b[K     |████████████████████████████████| 58 kB 5.7 MB/s \n",
            "\u001b[K     |████████████████████████████████| 79 kB 6.9 MB/s \n",
            "\u001b[K     |████████████████████████████████| 180 kB 58.9 MB/s \n",
            "\u001b[K     |████████████████████████████████| 596 kB 58.5 MB/s \n",
            "\u001b[K     |████████████████████████████████| 75 kB 4.5 MB/s \n",
            "\u001b[K     |████████████████████████████████| 52 kB 1.5 MB/s \n",
            "\u001b[K     |████████████████████████████████| 63 kB 1.8 MB/s \n",
            "\u001b[?25h  Building wheel for alembic (setup.py) ... \u001b[?25l\u001b[?25hdone\n",
            "  Building wheel for databricks-cli (setup.py) ... \u001b[?25l\u001b[?25hdone\n"
          ]
        }
      ]
    },
    {
      "cell_type": "code",
      "metadata": {
        "colab": {
          "base_uri": "https://localhost:8080/"
        },
        "id": "Q8RpBwGPj4XD",
        "outputId": "343ee20e-6743-4947-a89f-fdb38a67b240"
      },
      "source": [
        "import mlflow\n",
        "print(mlflow.__version__)"
      ],
      "execution_count": 4,
      "outputs": [
        {
          "output_type": "stream",
          "name": "stdout",
          "text": [
            "1.21.0\n"
          ]
        }
      ]
    },
    {
      "cell_type": "code",
      "metadata": {
        "id": "44FHdUnw2Mny"
      },
      "source": [
        "import mlflow\n",
        "import mlflow.keras\n",
        "import mlflow.pyfunc\n",
        "from mlflow.pyfunc import PythonModel\n",
        "from mlflow.utils.file_utils import TempDir\n",
        "from mlflow.utils.environment import _mlflow_conda_env"
      ],
      "execution_count": 5,
      "outputs": []
    },
    {
      "cell_type": "code",
      "metadata": {
        "id": "ENpD89BbkLhA"
      },
      "source": [
        "\n",
        "# run tracking UI in the background\n",
        "get_ipython().system_raw(\"mlflow ui --port 5000 &\")# run tracking UI in the background"
      ],
      "execution_count": 6,
      "outputs": []
    },
    {
      "cell_type": "code",
      "metadata": {
        "colab": {
          "base_uri": "https://localhost:8080/"
        },
        "id": "NFvwVUsCj_lD",
        "outputId": "654c195b-8995-45d0-d66e-6be10d601fea"
      },
      "source": [
        "with mlflow.start_run():\n",
        "  mlflow.log_metric(\"cross_entropy_test_loss\", score[0])\n",
        "  mlflow.log_metric(\"test_accuracy\", score[1])\n",
        "  print('Test loss:', score[0])\n",
        "  print('Test accuracy:', score[1])\n",
        "\n",
        "  mlflow.keras.log_model(model, artifact_path=\"keras-model\")"
      ],
      "execution_count": 7,
      "outputs": [
        {
          "output_type": "stream",
          "name": "stdout",
          "text": [
            "Test loss: 0.034771766513586044\n",
            "Test accuracy: 0.988099992275238\n",
            "INFO:tensorflow:Assets written to: /tmp/tmpx4l1x92b/model/data/model/assets\n"
          ]
        }
      ]
    },
    {
      "cell_type": "markdown",
      "metadata": {
        "id": "2PtrmC0YgmBH"
      },
      "source": [
        "# Pyngrok set-up"
      ]
    },
    {
      "cell_type": "code",
      "metadata": {
        "colab": {
          "base_uri": "https://localhost:8080/"
        },
        "id": "YY2SLVRiqGKr",
        "outputId": "aea24752-263d-4b3f-8690-bd9a5a2838e9"
      },
      "source": [
        "!pip install pyngrok==4.1.1 --quiet"
      ],
      "execution_count": 8,
      "outputs": [
        {
          "output_type": "stream",
          "name": "stdout",
          "text": [
            "Collecting pyngrok==4.1.1\n",
            "  Downloading pyngrok-4.1.1.tar.gz (18 kB)\n",
            "Requirement already satisfied: future in /usr/local/lib/python3.7/dist-packages (from pyngrok==4.1.1) (0.16.0)\n",
            "Requirement already satisfied: PyYAML in /usr/local/lib/python3.7/dist-packages (from pyngrok==4.1.1) (6.0)\n",
            "Building wheels for collected packages: pyngrok\n",
            "  Building wheel for pyngrok (setup.py) ... \u001b[?25l\u001b[?25hdone\n",
            "  Created wheel for pyngrok: filename=pyngrok-4.1.1-py3-none-any.whl size=15984 sha256=86e5be90a567a88f2cbc955dd2f664bb1f9f1a7efa8a5f97e5847b306296a0c2\n",
            "  Stored in directory: /root/.cache/pip/wheels/b1/d9/12/045a042fee3127dc40ba6f5df2798aa2df38c414bf533ca765\n",
            "Successfully built pyngrok\n",
            "Installing collected packages: pyngrok\n",
            "Successfully installed pyngrok-4.1.1\n"
          ]
        }
      ]
    },
    {
      "cell_type": "code",
      "metadata": {
        "colab": {
          "base_uri": "https://localhost:8080/"
        },
        "id": "73I0dGCLGyCt",
        "outputId": "98811b0a-84aa-496d-8e33-73432f9ea28d"
      },
      "source": [
        "\n",
        "from pyngrok import ngrok\n",
        "import os\n",
        "\n",
        "# Terminate open tunnels if exist\n",
        "ngrok.kill()\n",
        "\n",
        "# Setting the authtoken (optional)\n",
        "# Get your authtoken from https://dashboard.ngrok.com/auth\n",
        "with open('/content/drive/MyDrive/ngroktoken') as f:\n",
        "    NGROK_AUTH_TOKEN = f.read()\n",
        "\n",
        "ngrok.set_auth_token(NGROK_AUTH_TOKEN)\n",
        "\n",
        "# Open an HTTPs tunnel on port 5000 for http://localhost:5000\n",
        "public_url = ngrok.connect(port=\"5000\", proto=\"http\", options={'region': 'eu',\"bind_tls\": True, })\n",
        "print(\"MLflow Tracking UI:\", public_url)"
      ],
      "execution_count": 9,
      "outputs": [
        {
          "output_type": "stream",
          "name": "stdout",
          "text": [
            "MLflow Tracking UI: http://3005-35-227-191-167.ngrok.io\n"
          ]
        }
      ]
    },
    {
      "cell_type": "markdown",
      "metadata": {
        "id": "KL8ACuPYgagm"
      },
      "source": [
        "# Mlflow  avec DagsHub"
      ]
    },
    {
      "cell_type": "code",
      "metadata": {
        "id": "XrYIN9_nspzv"
      },
      "source": [
        "import mlflow\n",
        "import os\n",
        "from getpass import getpass"
      ],
      "execution_count": 10,
      "outputs": []
    },
    {
      "cell_type": "code",
      "metadata": {
        "colab": {
          "base_uri": "https://localhost:8080/"
        },
        "id": "_bFGs3kKufCY",
        "outputId": "17832dca-090c-402c-c013-46dba2615d0f"
      },
      "source": [
        "\n",
        "\n",
        "# os.environ['MLFLOW_TRACKING_USERNAME'] = input('Enter your DAGsHub username: ')\n",
        "# os.environ['MLFLOW_TRACKING_PROJECTNAME'] = input('Enter your DAGsHub project name: ')\n",
        "# os.environ['MLFLOW_TRACKING_PASSWORD'] = getpass('Enter your DAGsHub access token: ')\n",
        "\n",
        "with open('/content/drive/MyDrive/11_01_mlflow/username_dagshub') as f:\n",
        "    MLFLOW_TRACKING_USERNAME = f.read()\n",
        "with open('/content/drive/MyDrive/11_01_mlflow/token_dagshub') as f:\n",
        "    MLFLOW_TRACKING_PASSWORD = f.read()\n",
        "with open('/content/drive/MyDrive/dags_project_name') as f:\n",
        "    MLFLOW_TRACKING_PROJECTNAME = f.read()  \n",
        "\n",
        "url = 'https://dagshub.com/' + MLFLOW_TRACKING_USERNAME + '/' + MLFLOW_TRACKING_PROJECTNAME + \"/experiments/#/\"\n",
        "\n",
        "print(url)\n",
        "\n",
        "mlflow.set_tracking_uri(f'url')\n",
        "\n",
        "with mlflow.start_run(run_name=\"MLflow on Colab\"):\n",
        "\n",
        "    mlflow.log_metric(\"cross_entropy_test_loss\", score[0])\n",
        "    mlflow.log_metric(\"test_accuracy\", score[1])\n",
        "    print('Test loss:', score[0])\n",
        "    print('Test accuracy:', score[1])\n",
        "    mlflow.keras.log_model(model, artifact_path=\"keras-model\")"
      ],
      "execution_count": 27,
      "outputs": [
        {
          "output_type": "stream",
          "name": "stdout",
          "text": [
            "https://dagshub.com/caroline/minist/experiments/#/\n",
            "Test loss: 0.034771766513586044\n",
            "Test accuracy: 0.988099992275238\n",
            "INFO:tensorflow:Assets written to: /tmp/tmp45dpiud1/model/data/model/assets\n"
          ]
        }
      ]
    },
    {
      "cell_type": "code",
      "metadata": {
        "colab": {
          "base_uri": "https://localhost:8080/",
          "height": 621
        },
        "id": "ude7MJEI3CEr",
        "outputId": "e4ebb212-f04a-4760-9820-c3c65c1c2442"
      },
      "source": [
        "import IPython\n",
        "display(IPython.display.IFrame(url,'100%',600))\n",
        "#https://dagshub.com/caroline/minist/experiments/#/"
      ],
      "execution_count": 28,
      "outputs": [
        {
          "output_type": "display_data",
          "data": {
            "text/html": [
              "\n",
              "        <iframe\n",
              "            width=\"100%\"\n",
              "            height=\"600\"\n",
              "            src=\"https://dagshub.com/caroline/minist/experiments/#/\"\n",
              "            frameborder=\"0\"\n",
              "            allowfullscreen\n",
              "        ></iframe>\n",
              "        "
            ],
            "text/plain": [
              "<IPython.lib.display.IFrame at 0x7fc7e72f8590>"
            ]
          },
          "metadata": {}
        }
      ]
    },
    {
      "cell_type": "code",
      "metadata": {
        "id": "dJcckcYMKn5K"
      },
      "source": [
        "#A adapter\n",
        "\n",
        "%%bash\n",
        "curl --silent --show-error 'http://localhost:5000/invocations' -H 'Content-Type: application/json' -d '{\n",
        "    \"columns\": [\"season\", \"year\", \"month\", \"hour_of_day\", \"is_holiday\", \"weekday\", \"is_workingday\", \"weather_situation\", \"temperature\", \"feels_like_temperature\", \"humidity\", \"windspeed\"],\n",
        "    \"data\": x_train[0]\n",
        "}'"
      ],
      "execution_count": null,
      "outputs": []
    },
    {
      "cell_type": "code",
      "metadata": {
        "id": "9Wqd8UrIHVNK"
      },
      "source": [
        "#pour itérer sur différents paramètres regarder\n",
        "# https://colab.research.google.com/github/alfozan/mlflow/blob/master/examples/sklearn_elasticnet_wine/train.ipynb\n",
        "# https://colab.research.google.com/github/alfozan/mlflow-example/blob/master/MLflow-example-notebook.ipynb#scrollTo=4h3bKHMYUIG6"
      ],
      "execution_count": 29,
      "outputs": []
    },
    {
      "cell_type": "code",
      "metadata": {
        "id": "WA_z5_C_Has5"
      },
      "source": [
        ""
      ],
      "execution_count": null,
      "outputs": []
    }
  ]
}